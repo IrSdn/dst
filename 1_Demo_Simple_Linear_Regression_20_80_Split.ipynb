{
  "nbformat": 4,
  "nbformat_minor": 0,
  "metadata": {
    "colab": {
      "name": "1- Demo - Simple Linear Regression 20-80 Split.ipynb",
      "version": "0.3.2",
      "provenance": [],
      "collapsed_sections": [
        "jBD50NueFPzP",
        "Oat-IidXQ6hs"
      ],
      "include_colab_link": true
    },
    "kernelspec": {
      "name": "python3",
      "display_name": "Python 3"
    }
  },
  "cells": [
    {
      "cell_type": "markdown",
      "metadata": {
        "id": "view-in-github",
        "colab_type": "text"
      },
      "source": [
        "<a href=\"https://colab.research.google.com/github/IrSdn/dst/blob/master/1_Demo_Simple_Linear_Regression_20_80_Split.ipynb\" target=\"_parent\"><img src=\"https://colab.research.google.com/assets/colab-badge.svg\" alt=\"Open In Colab\"/></a>"
      ]
    },
    {
      "metadata": {
        "id": "xiSXeY3PBJKP",
        "colab_type": "text"
      },
      "cell_type": "markdown",
      "source": [
        "# Lets Perform a Simple Linear Regression (Using One Feature)"
      ]
    },
    {
      "metadata": {
        "id": "ePWYCYc1SIrt",
        "colab_type": "text"
      },
      "cell_type": "markdown",
      "source": [
        "# Diabetes dataset\n",
        "**Ten** baseline variables, age, sex, body mass index, average blood pressure, and six blood serum measurements were obtained for each of n = 442 diabetes patients, as well as the response of interest, a quantitative measure of disease progression one year after baseline.\n",
        "\n",
        "**Data Set Characteristics:**\n",
        "Number of Instances: 442\n",
        "Number of Attributes: First 10 columns are numeric predictive values\n",
        "Target: Column 11 is a quantitative measure of disease progression one year after baseline\n",
        "\n",
        "## Attribute Information:  \n",
        "- Age\n",
        "- Sex\n",
        "- Body mass index\n",
        "- Average blood pressure      \n",
        "- S1\n",
        "- S2\n",
        "- S3\n",
        "- S4\n",
        "- S5\n",
        "- S6\n",
        "\n",
        "## Note: \n",
        "Each of these 10 feature variables have been mean centered and scaled by the standard deviation times `n_samples` (i.e. the sum of squares of each column totals 1).\n",
        "\n",
        "Source URL:http://www4.stat.ncsu.edu/~boos/var.select/diabetes.html\n",
        "\n",
        "For more information see:\n",
        "\n",
        "Bradley Efron, Trevor Hastie, Iain Johnstone and Robert Tibshirani (2004) \"Least Angle Regression,\" Annals of Statistics (with discussion), 407-499.(http://web.stanford.edu/~hastie/Papers/LARS/LeastAngle_2002.pdf)'"
      ]
    },
    {
      "metadata": {
        "id": "3xmKBtC0DMNC",
        "colab_type": "text"
      },
      "cell_type": "markdown",
      "source": [
        "#Import Dataset"
      ]
    },
    {
      "metadata": {
        "id": "FTIyIl9EARya",
        "colab_type": "code",
        "outputId": "99ad650b-79e6-462f-8bb2-29dcfed449e2",
        "colab": {
          "base_uri": "https://localhost:8080/",
          "height": 34
        }
      },
      "cell_type": "code",
      "source": [
        "print(__doc__)\n",
        "\n",
        "\n",
        "# Code source: Jaques Grobler\n",
        "# License: BSD 3 clause\n",
        "\n",
        "\n",
        "import matplotlib.pyplot as plt\n",
        "import numpy as np\n",
        "from sklearn import datasets, linear_model\n",
        "from sklearn.metrics import mean_squared_error, r2_score\n",
        "\n",
        "# Load the diabetes dataset. This is Scikit-Learn dataset format.\n",
        "diabetes = datasets.load_diabetes()\n",
        "\n"
      ],
      "execution_count": 0,
      "outputs": [
        {
          "output_type": "stream",
          "text": [
            "Automatically created module for IPython interactive environment\n"
          ],
          "name": "stdout"
        }
      ]
    },
    {
      "metadata": {
        "id": "NhMDkG5hDY_u",
        "colab_type": "text"
      },
      "cell_type": "markdown",
      "source": [
        "# Check Dataset Type"
      ]
    },
    {
      "metadata": {
        "id": "yEtnKS_wBFIh",
        "colab_type": "code",
        "outputId": "8dd959e1-db27-4be7-d8be-4121256fa072",
        "colab": {
          "base_uri": "https://localhost:8080/",
          "height": 34
        }
      },
      "cell_type": "code",
      "source": [
        "type(diabetes)"
      ],
      "execution_count": 0,
      "outputs": [
        {
          "output_type": "execute_result",
          "data": {
            "text/plain": [
              "sklearn.utils.Bunch"
            ]
          },
          "metadata": {
            "tags": []
          },
          "execution_count": 2
        }
      ]
    },
    {
      "metadata": {
        "id": "wVmHyUY0Dat-",
        "colab_type": "text"
      },
      "cell_type": "markdown",
      "source": [
        "# Convert Dataset to Panda DF"
      ]
    },
    {
      "metadata": {
        "id": "KDjH15rUBv0W",
        "colab_type": "code",
        "colab": {}
      },
      "cell_type": "code",
      "source": [
        "import numpy as np\n",
        "import pandas as pd\n",
        "diabetes_df = pd.DataFrame(data= np.c_[diabetes['data'], diabetes['target']],\n",
        "                     columns= diabetes['feature_names'] + ['target'])\n"
      ],
      "execution_count": 0,
      "outputs": []
    },
    {
      "metadata": {
        "id": "zLEhjx9kDudq",
        "colab_type": "text"
      },
      "cell_type": "markdown",
      "source": [
        "# Look at Data"
      ]
    },
    {
      "metadata": {
        "id": "f_qfpqPPAWK-",
        "colab_type": "code",
        "outputId": "ea028e3b-a425-444e-dc81-59cb896c34a1",
        "colab": {
          "base_uri": "https://localhost:8080/",
          "height": 359
        }
      },
      "cell_type": "code",
      "source": [
        "display(diabetes_df[:10])"
      ],
      "execution_count": 0,
      "outputs": [
        {
          "output_type": "display_data",
          "data": {
            "text/html": [
              "<div>\n",
              "<style scoped>\n",
              "    .dataframe tbody tr th:only-of-type {\n",
              "        vertical-align: middle;\n",
              "    }\n",
              "\n",
              "    .dataframe tbody tr th {\n",
              "        vertical-align: top;\n",
              "    }\n",
              "\n",
              "    .dataframe thead th {\n",
              "        text-align: right;\n",
              "    }\n",
              "</style>\n",
              "<table border=\"1\" class=\"dataframe\">\n",
              "  <thead>\n",
              "    <tr style=\"text-align: right;\">\n",
              "      <th></th>\n",
              "      <th>age</th>\n",
              "      <th>sex</th>\n",
              "      <th>bmi</th>\n",
              "      <th>bp</th>\n",
              "      <th>s1</th>\n",
              "      <th>s2</th>\n",
              "      <th>s3</th>\n",
              "      <th>s4</th>\n",
              "      <th>s5</th>\n",
              "      <th>s6</th>\n",
              "      <th>target</th>\n",
              "    </tr>\n",
              "  </thead>\n",
              "  <tbody>\n",
              "    <tr>\n",
              "      <th>0</th>\n",
              "      <td>0.038076</td>\n",
              "      <td>0.050680</td>\n",
              "      <td>0.061696</td>\n",
              "      <td>0.021872</td>\n",
              "      <td>-0.044223</td>\n",
              "      <td>-0.034821</td>\n",
              "      <td>-0.043401</td>\n",
              "      <td>-0.002592</td>\n",
              "      <td>0.019908</td>\n",
              "      <td>-0.017646</td>\n",
              "      <td>151.0</td>\n",
              "    </tr>\n",
              "    <tr>\n",
              "      <th>1</th>\n",
              "      <td>-0.001882</td>\n",
              "      <td>-0.044642</td>\n",
              "      <td>-0.051474</td>\n",
              "      <td>-0.026328</td>\n",
              "      <td>-0.008449</td>\n",
              "      <td>-0.019163</td>\n",
              "      <td>0.074412</td>\n",
              "      <td>-0.039493</td>\n",
              "      <td>-0.068330</td>\n",
              "      <td>-0.092204</td>\n",
              "      <td>75.0</td>\n",
              "    </tr>\n",
              "    <tr>\n",
              "      <th>2</th>\n",
              "      <td>0.085299</td>\n",
              "      <td>0.050680</td>\n",
              "      <td>0.044451</td>\n",
              "      <td>-0.005671</td>\n",
              "      <td>-0.045599</td>\n",
              "      <td>-0.034194</td>\n",
              "      <td>-0.032356</td>\n",
              "      <td>-0.002592</td>\n",
              "      <td>0.002864</td>\n",
              "      <td>-0.025930</td>\n",
              "      <td>141.0</td>\n",
              "    </tr>\n",
              "    <tr>\n",
              "      <th>3</th>\n",
              "      <td>-0.089063</td>\n",
              "      <td>-0.044642</td>\n",
              "      <td>-0.011595</td>\n",
              "      <td>-0.036656</td>\n",
              "      <td>0.012191</td>\n",
              "      <td>0.024991</td>\n",
              "      <td>-0.036038</td>\n",
              "      <td>0.034309</td>\n",
              "      <td>0.022692</td>\n",
              "      <td>-0.009362</td>\n",
              "      <td>206.0</td>\n",
              "    </tr>\n",
              "    <tr>\n",
              "      <th>4</th>\n",
              "      <td>0.005383</td>\n",
              "      <td>-0.044642</td>\n",
              "      <td>-0.036385</td>\n",
              "      <td>0.021872</td>\n",
              "      <td>0.003935</td>\n",
              "      <td>0.015596</td>\n",
              "      <td>0.008142</td>\n",
              "      <td>-0.002592</td>\n",
              "      <td>-0.031991</td>\n",
              "      <td>-0.046641</td>\n",
              "      <td>135.0</td>\n",
              "    </tr>\n",
              "    <tr>\n",
              "      <th>5</th>\n",
              "      <td>-0.092695</td>\n",
              "      <td>-0.044642</td>\n",
              "      <td>-0.040696</td>\n",
              "      <td>-0.019442</td>\n",
              "      <td>-0.068991</td>\n",
              "      <td>-0.079288</td>\n",
              "      <td>0.041277</td>\n",
              "      <td>-0.076395</td>\n",
              "      <td>-0.041180</td>\n",
              "      <td>-0.096346</td>\n",
              "      <td>97.0</td>\n",
              "    </tr>\n",
              "    <tr>\n",
              "      <th>6</th>\n",
              "      <td>-0.045472</td>\n",
              "      <td>0.050680</td>\n",
              "      <td>-0.047163</td>\n",
              "      <td>-0.015999</td>\n",
              "      <td>-0.040096</td>\n",
              "      <td>-0.024800</td>\n",
              "      <td>0.000779</td>\n",
              "      <td>-0.039493</td>\n",
              "      <td>-0.062913</td>\n",
              "      <td>-0.038357</td>\n",
              "      <td>138.0</td>\n",
              "    </tr>\n",
              "    <tr>\n",
              "      <th>7</th>\n",
              "      <td>0.063504</td>\n",
              "      <td>0.050680</td>\n",
              "      <td>-0.001895</td>\n",
              "      <td>0.066630</td>\n",
              "      <td>0.090620</td>\n",
              "      <td>0.108914</td>\n",
              "      <td>0.022869</td>\n",
              "      <td>0.017703</td>\n",
              "      <td>-0.035817</td>\n",
              "      <td>0.003064</td>\n",
              "      <td>63.0</td>\n",
              "    </tr>\n",
              "    <tr>\n",
              "      <th>8</th>\n",
              "      <td>0.041708</td>\n",
              "      <td>0.050680</td>\n",
              "      <td>0.061696</td>\n",
              "      <td>-0.040099</td>\n",
              "      <td>-0.013953</td>\n",
              "      <td>0.006202</td>\n",
              "      <td>-0.028674</td>\n",
              "      <td>-0.002592</td>\n",
              "      <td>-0.014956</td>\n",
              "      <td>0.011349</td>\n",
              "      <td>110.0</td>\n",
              "    </tr>\n",
              "    <tr>\n",
              "      <th>9</th>\n",
              "      <td>-0.070900</td>\n",
              "      <td>-0.044642</td>\n",
              "      <td>0.039062</td>\n",
              "      <td>-0.033214</td>\n",
              "      <td>-0.012577</td>\n",
              "      <td>-0.034508</td>\n",
              "      <td>-0.024993</td>\n",
              "      <td>-0.002592</td>\n",
              "      <td>0.067736</td>\n",
              "      <td>-0.013504</td>\n",
              "      <td>310.0</td>\n",
              "    </tr>\n",
              "  </tbody>\n",
              "</table>\n",
              "</div>"
            ],
            "text/plain": [
              "        age       sex       bmi        bp        s1        s2        s3  \\\n",
              "0  0.038076  0.050680  0.061696  0.021872 -0.044223 -0.034821 -0.043401   \n",
              "1 -0.001882 -0.044642 -0.051474 -0.026328 -0.008449 -0.019163  0.074412   \n",
              "2  0.085299  0.050680  0.044451 -0.005671 -0.045599 -0.034194 -0.032356   \n",
              "3 -0.089063 -0.044642 -0.011595 -0.036656  0.012191  0.024991 -0.036038   \n",
              "4  0.005383 -0.044642 -0.036385  0.021872  0.003935  0.015596  0.008142   \n",
              "5 -0.092695 -0.044642 -0.040696 -0.019442 -0.068991 -0.079288  0.041277   \n",
              "6 -0.045472  0.050680 -0.047163 -0.015999 -0.040096 -0.024800  0.000779   \n",
              "7  0.063504  0.050680 -0.001895  0.066630  0.090620  0.108914  0.022869   \n",
              "8  0.041708  0.050680  0.061696 -0.040099 -0.013953  0.006202 -0.028674   \n",
              "9 -0.070900 -0.044642  0.039062 -0.033214 -0.012577 -0.034508 -0.024993   \n",
              "\n",
              "         s4        s5        s6  target  \n",
              "0 -0.002592  0.019908 -0.017646   151.0  \n",
              "1 -0.039493 -0.068330 -0.092204    75.0  \n",
              "2 -0.002592  0.002864 -0.025930   141.0  \n",
              "3  0.034309  0.022692 -0.009362   206.0  \n",
              "4 -0.002592 -0.031991 -0.046641   135.0  \n",
              "5 -0.076395 -0.041180 -0.096346    97.0  \n",
              "6 -0.039493 -0.062913 -0.038357   138.0  \n",
              "7  0.017703 -0.035817  0.003064    63.0  \n",
              "8 -0.002592 -0.014956  0.011349   110.0  \n",
              "9 -0.002592  0.067736 -0.013504   310.0  "
            ]
          },
          "metadata": {
            "tags": []
          }
        }
      ]
    },
    {
      "metadata": {
        "id": "LqcJtPtcAVZo",
        "colab_type": "code",
        "outputId": "e798b04d-2e5b-4952-ac5c-35dc9cd738dc",
        "colab": {
          "base_uri": "https://localhost:8080/",
          "height": 398
        }
      },
      "cell_type": "code",
      "source": [
        "\n",
        "# Use only one feature\n",
        "diabetes_X = diabetes.data[:, np.newaxis, 2]\n",
        "\n",
        "# Split the data into training/testing sets\n",
        "diabetes_X_train = diabetes_X[:-20]\n",
        "diabetes_X_test = diabetes_X[-20:]\n",
        "\n",
        "# Split the targets into training/testing sets\n",
        "diabetes_y_train = diabetes.target[:-20]\n",
        "diabetes_y_test = diabetes.target[-20:]\n",
        "\n",
        "# Create linear regression object\n",
        "regr = linear_model.LinearRegression()\n",
        "\n",
        "# Train the model using the training sets\n",
        "regr.fit(diabetes_X_train, diabetes_y_train)\n",
        "\n",
        "# Make predictions using the testing set\n",
        "diabetes_y_pred = regr.predict(diabetes_X_test)\n",
        "\n",
        "# The coefficients\n",
        "print('Coefficients: \\n', regr.coef_)\n",
        "# The mean squared error\n",
        "print(\"Mean squared error: %.2f\"\n",
        "      % mean_squared_error(diabetes_y_test, diabetes_y_pred))\n",
        "# Explained variance score: 1 is perfect prediction\n",
        "print('Variance score: %.2f' % r2_score(diabetes_y_test, diabetes_y_pred))\n",
        "\n",
        "# Plot outputs\n",
        "plt.scatter(diabetes_X_test, diabetes_y_test,  color='black')\n",
        "plt.plot(diabetes_X_test, diabetes_y_pred, color='blue', linewidth=3)\n",
        "\n",
        "plt.xticks(())\n",
        "plt.yticks(())\n",
        "\n",
        "plt.show()"
      ],
      "execution_count": 0,
      "outputs": [
        {
          "output_type": "stream",
          "text": [
            "Coefficients: \n",
            " [938.23786125]\n",
            "Mean squared error: 2548.07\n",
            "Variance score: 0.47\n"
          ],
          "name": "stdout"
        },
        {
          "output_type": "display_data",
          "data": {
            "image/png": "[encoded data removed]",
            "text/plain": [
              "<matplotlib.figure.Figure at 0x7f37e6d5e4e0>"
            ]
          },
          "metadata": {
            "tags": []
          }
        }
      ]
    },
    {
      "metadata": {
        "id": "j6SBJbYuD1nE",
        "colab_type": "text"
      },
      "cell_type": "markdown",
      "source": [
        "# Select Exploratory Features"
      ]
    },
    {
      "metadata": {
        "id": "yKVH85YHD_Ae",
        "colab_type": "code",
        "outputId": "b9e3dadb-bc02-4723-ca13-298eaae3ea4e",
        "colab": {
          "base_uri": "https://localhost:8080/",
          "height": 85
        }
      },
      "cell_type": "code",
      "source": [
        "# Use only one feature\n",
        "diabetes_X = diabetes_df['age']\n",
        "diabetes_X = np.array(diabetes_X.values).reshape(-1,1)\n",
        "\n",
        "diabetes_y = diabetes_df['target']\n",
        "diabetes_y = np.array(diabetes_y.values).reshape(-1,1)\n",
        "\n",
        "#View it\n",
        "print(type(diabetes_X))\n",
        "print(diabetes_X.shape)\n",
        "\n",
        "\n",
        "print(type(diabetes_y))\n",
        "print(diabetes_y.shape)"
      ],
      "execution_count": 0,
      "outputs": [
        {
          "output_type": "stream",
          "text": [
            "<class 'numpy.ndarray'>\n",
            "(442, 1)\n",
            "<class 'numpy.ndarray'>\n",
            "(442, 1)\n"
          ],
          "name": "stdout"
        }
      ]
    },
    {
      "metadata": {
        "id": "s8xBlpZLEUDr",
        "colab_type": "text"
      },
      "cell_type": "markdown",
      "source": [
        "# Split data into Train/Test"
      ]
    },
    {
      "metadata": {
        "id": "VLXGLddlFBhn",
        "colab_type": "text"
      },
      "cell_type": "markdown",
      "source": [
        "# Create Linear Regression Model"
      ]
    },
    {
      "metadata": {
        "id": "MjzSm7AkEWpN",
        "colab_type": "code",
        "outputId": "58f43d89-6bbc-4b81-d14d-cbb877903cc2",
        "colab": {
          "base_uri": "https://localhost:8080/",
          "height": 357
        }
      },
      "cell_type": "code",
      "source": [
        "# Split the data into training/testing sets\n",
        "from sklearn.model_selection import train_test_split\n",
        "\n",
        "# Create the train and test data\n",
        "diabetes_X_train, diabetes_X_test, diabetes_y_train, diabetes_y_test = train_test_split(diabetes_X, diabetes_y, test_size=0.2)\n",
        "\n",
        "\n",
        "print(diabetes_X_train[:5])\n",
        "print(diabetes_X_test[:5])\n",
        "print(diabetes_y_train[:5])\n",
        "print(diabetes_y_test[:5])\n",
        "\n"
      ],
      "execution_count": 0,
      "outputs": [
        {
          "output_type": "stream",
          "text": [
            "[[ 0.00175052]\n",
            " [ 0.07440129]\n",
            " [-0.00551455]\n",
            " [ 0.06350368]\n",
            " [ 0.01991321]]\n",
            "[[ 0.03444337]\n",
            " [-0.00914709]\n",
            " [-0.00188202]\n",
            " [-0.02730979]\n",
            " [ 0.01264814]]\n",
            "[[ 88.]\n",
            " [236.]\n",
            " [174.]\n",
            " [202.]\n",
            " [ 72.]]\n",
            "[[206.]\n",
            " [ 42.]\n",
            " [222.]\n",
            " [ 95.]\n",
            " [ 98.]]\n"
          ],
          "name": "stdout"
        }
      ]
    },
    {
      "metadata": {
        "id": "h9HhPCqCEzwb",
        "colab_type": "code",
        "outputId": "dc30f242-d8a2-4486-fe02-4b2337102043",
        "colab": {
          "base_uri": "https://localhost:8080/",
          "height": 51
        }
      },
      "cell_type": "code",
      "source": [
        "# Create linear regression object\n",
        "regr = linear_model.LinearRegression()\n",
        "regr"
      ],
      "execution_count": 0,
      "outputs": [
        {
          "output_type": "execute_result",
          "data": {
            "text/plain": [
              "LinearRegression(copy_X=True, fit_intercept=True, n_jobs=None,\n",
              "         normalize=False)"
            ]
          },
          "metadata": {
            "tags": []
          },
          "execution_count": 8
        }
      ]
    },
    {
      "metadata": {
        "id": "gqqo97pVPjIP",
        "colab_type": "code",
        "outputId": "93191659-7e94-46b4-b10d-bc95929f5cb0",
        "colab": {
          "base_uri": "https://localhost:8080/",
          "height": 51
        }
      },
      "cell_type": "code",
      "source": [
        "print(diabetes_X_train.shape)\n",
        "print(diabetes_y_train.shape)"
      ],
      "execution_count": 0,
      "outputs": [
        {
          "output_type": "stream",
          "text": [
            "(353, 1)\n",
            "(353, 1)\n"
          ],
          "name": "stdout"
        }
      ]
    },
    {
      "metadata": {
        "id": "jBD50NueFPzP",
        "colab_type": "text"
      },
      "cell_type": "markdown",
      "source": [
        "# Train The Model"
      ]
    },
    {
      "metadata": {
        "id": "45Kt_odFFMoW",
        "colab_type": "text"
      },
      "cell_type": "markdown",
      "source": [
        ""
      ]
    },
    {
      "metadata": {
        "id": "1x_-deOhFJTh",
        "colab_type": "code",
        "outputId": "5b9cb863-4cf0-494c-aea2-1134c1a17d18",
        "colab": {
          "base_uri": "https://localhost:8080/",
          "height": 71
        }
      },
      "cell_type": "code",
      "source": [
        "# Train the model using the training sets\n",
        "regr.fit(diabetes_X_train, diabetes_y_train)\n"
      ],
      "execution_count": 0,
      "outputs": [
        {
          "output_type": "execute_result",
          "data": {
            "text/plain": [
              "LinearRegression(copy_X=True, fit_intercept=True, n_jobs=None,\n",
              "         normalize=False)"
            ]
          },
          "metadata": {
            "tags": []
          },
          "execution_count": 10
        }
      ]
    },
    {
      "metadata": {
        "id": "Oat-IidXQ6hs",
        "colab_type": "text"
      },
      "cell_type": "markdown",
      "source": [
        "# Look at Model Coefficient and Intercept"
      ]
    },
    {
      "metadata": {
        "id": "uIfqcPJhQ-jF",
        "colab_type": "code",
        "outputId": "8c3b2afa-f022-47ef-8a3c-d9a884b6ce8e",
        "colab": {
          "base_uri": "https://localhost:8080/",
          "height": 71
        }
      },
      "cell_type": "code",
      "source": [
        "print(\"coefficient is \" , regr.coef_)\n",
        "print(\"Intercept is\", regr.intercept_)\n"
      ],
      "execution_count": 0,
      "outputs": [
        {
          "output_type": "stream",
          "text": [
            "coefficient is  [[297.36235042]]\n",
            "Intercept is [151.03102386]\n"
          ],
          "name": "stdout"
        }
      ]
    },
    {
      "metadata": {
        "id": "hgiy5E29PuCh",
        "colab_type": "code",
        "outputId": "f79b88c0-ddff-429e-a29f-ae4d23458547",
        "colab": {
          "base_uri": "https://localhost:8080/",
          "height": 71
        }
      },
      "cell_type": "code",
      "source": [
        "print(diabetes_X_test.shape)\n",
        "print(diabetes_y_test.shape)"
      ],
      "execution_count": 0,
      "outputs": [
        {
          "output_type": "stream",
          "text": [
            "(89, 1)\n",
            "(89, 1)\n"
          ],
          "name": "stdout"
        }
      ]
    },
    {
      "metadata": {
        "id": "GJs6STWnOZEu",
        "colab_type": "text"
      },
      "cell_type": "markdown",
      "source": [
        "# Make Prediction"
      ]
    },
    {
      "metadata": {
        "id": "NtNTav62Ny6U",
        "colab_type": "code",
        "outputId": "5d92733e-e01e-4281-f9ab-a040ea14c3fd",
        "colab": {
          "base_uri": "https://localhost:8080/",
          "height": 122
        }
      },
      "cell_type": "code",
      "source": [
        "# Make predictions using the testing set\n",
        "diabetes_y_pred = regr.predict(diabetes_X_test)\n",
        "diabetes_y_pred[:5]"
      ],
      "execution_count": 0,
      "outputs": [
        {
          "output_type": "execute_result",
          "data": {
            "text/plain": [
              "array([[161.27318472],\n",
              "       [148.31102266],\n",
              "       [150.471383  ],\n",
              "       [142.9101218 ],\n",
              "       [154.79210369]])"
            ]
          },
          "metadata": {
            "tags": []
          },
          "execution_count": 13
        }
      ]
    },
    {
      "metadata": {
        "id": "dbz282OIRUcV",
        "colab_type": "text"
      },
      "cell_type": "markdown",
      "source": [
        "# Look at Error"
      ]
    },
    {
      "metadata": {
        "id": "564Ez8QmE-4g",
        "colab_type": "code",
        "outputId": "edc5a535-06eb-48ab-eb00-742383604fac",
        "colab": {
          "base_uri": "https://localhost:8080/",
          "height": 105
        }
      },
      "cell_type": "code",
      "source": [
        "from sklearn.metrics import mean_squared_error, r2_score\n",
        "from sklearn.metrics import mean_absolute_error\n",
        "from math import sqrt\n",
        "\n",
        "\n",
        "# The mean squared error\n",
        "print(\"Mean squared error: %.2f\"\n",
        "      % mean_squared_error(diabetes_y_test, diabetes_y_pred))\n",
        "\n",
        "print(\"Root Mean squared error: %.2f\"\n",
        "      % sqrt(mean_squared_error(diabetes_y_test, diabetes_y_pred)))\n",
        "\n",
        "print(\"Mean absolute error: %.2f\"\n",
        "      % mean_absolute_error(diabetes_y_test, diabetes_y_pred))\n",
        "\n",
        "# Explained variance score: 1 is perfect prediction\n",
        "print('Variance score: %.2f' % r2_score(diabetes_y_test, diabetes_y_pred))\n",
        "\n"
      ],
      "execution_count": 0,
      "outputs": [
        {
          "output_type": "stream",
          "text": [
            "Mean squared error: 5504.41\n",
            "Root Mean squared error: 74.19\n",
            "Mean absolute error: 63.62\n",
            "Variance score: 0.04\n"
          ],
          "name": "stdout"
        }
      ]
    },
    {
      "metadata": {
        "id": "K-A8l6LGXdYG",
        "colab_type": "text"
      },
      "cell_type": "markdown",
      "source": [
        "# Conclusion\n",
        "\n",
        "1.   The model has fairly high error of **5570.40**\n",
        "2.    The model is **almost as bad as** when we assign average of the entire target variable to all.\n",
        "\n",
        "**Can anyone says why our model is so bad?**"
      ]
    },
    {
      "metadata": {
        "id": "GCYXydXiROFV",
        "colab_type": "text"
      },
      "cell_type": "markdown",
      "source": [
        "# Plot the Model"
      ]
    },
    {
      "metadata": {
        "id": "kK1HNBGgRQKc",
        "colab_type": "code",
        "outputId": "9b131c2b-67f4-4f35-98b2-42345828f4a2",
        "colab": {
          "base_uri": "https://localhost:8080/",
          "height": 330
        }
      },
      "cell_type": "code",
      "source": [
        "# Plot outputs\n",
        "plt.scatter(diabetes_X_test, diabetes_y_test,  color='black')\n",
        "plt.plot(diabetes_X_test, diabetes_y_pred, color='blue', linewidth=3)\n",
        "\n",
        "plt.xticks(())\n",
        "plt.yticks(())\n",
        "\n",
        "plt.show()"
      ],
      "execution_count": 0,
      "outputs": [
        {
          "output_type": "display_data",
          "data": {
            "image/png": "[encoded data removed]",
            "text/plain": [
              "<matplotlib.figure.Figure at 0x7f37e6d017f0>"
            ]
          },
          "metadata": {
            "tags": []
          }
        }
      ]
    },
    {
      "metadata": {
        "id": "wzVdWvH5KdX6",
        "colab_type": "text"
      },
      "cell_type": "markdown",
      "source": [
        "# Question: What do you expect if I run the code again?"
      ]
    }
  ]
}